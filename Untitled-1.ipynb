{
 "cells": [
  {
   "cell_type": "code",
   "execution_count": 1,
   "id": "43a7f7b6",
   "metadata": {},
   "outputs": [],
   "source": [
    "import matplotlib.pyplot as plt\n",
    "plt.rcParams['font.family'] = 'Microsoft YaHei'  \n",
    "\n",
    "import pandas as pd\n",
    "import glob\n",
    "import os\n",
    "import regex as re\n",
    "import jieba\n"
   ]
  },
  {
   "cell_type": "code",
   "execution_count": 10,
   "id": "c06f36e0",
   "metadata": {},
   "outputs": [],
   "source": [
    "# 设置路径\n",
    "path = \"datasets/*.xlsx\"\n",
    "\n",
    "# 获取所有文件路径\n",
    "files = glob.glob(path)\n",
    "\n",
    "# 按年份排序（避免乱序）\n",
    "files.sort()\n",
    "\n",
    "# 批量读取并存到一个 list\n",
    "dfs = []\n",
    "for file in files:\n",
    "    year = os.path.basename(file)[4:8]   # 提取年份，比如 \"1946\"\n",
    "    df = pd.read_excel(file)\n",
    "    df[\"year\"] = year   # 给每个表加上年份列\n",
    "    dfs.append(df)\n",
    "\n",
    "# 合并成一个大 DataFrame\n",
    "data = pd.concat(dfs, ignore_index=True)\n"
   ]
  },
  {
   "cell_type": "code",
   "execution_count": 11,
   "id": "41a709e2",
   "metadata": {},
   "outputs": [
    {
     "name": "stdout",
     "output_type": "stream",
     "text": [
      "       年份          日期 报纸版次                标题  \\\n",
      "0  1946.0  1946-05-15  第3版         苏评论家马西努著论   \n",
      "1  1946.0  1946-05-15  第2版              瑞华银行   \n",
      "2  1946.0  1946-05-15  第3版          煤矿工潮绵延四旬   \n",
      "3  1946.0  1946-05-15  第2版             军区文工团   \n",
      "4  1946.0  1946-05-15  第2版  联总救济物资一部先后运到我区发放   \n",
      "\n",
      "                                                文本内容  year  \n",
      "0   苏评论家马西努著论 痛斥阎锡山勾结日寇 美军帮助日阎进攻解放区，不符莫斯科二国决议 194...  1946  \n",
      "1   瑞华银行 今日召开股东大会 1946-05-15 第2版() 专栏： 瑞华银行 今日召开股...  1946  \n",
      "2   煤矿工潮绵延四旬 美工业陷停顿状态 芝加哥华盛顿等城已黑暗无光 1946-05-15 第3...  1946  \n",
      "3   军区文工团 演出“两种作风” 生动真实深受欢迎 1946-05-15 第2版() 专栏： ...  1946  \n",
      "4   联总救济物资一部先后运到我区发放 群众认为物资微少，不足弥补八年创伤 1946-05-15...  1946  \n",
      "<class 'pandas.core.frame.DataFrame'>\n",
      "RangeIndex: 2030697 entries, 0 to 2030696\n",
      "Data columns (total 6 columns):\n",
      " #   Column  Dtype  \n",
      "---  ------  -----  \n",
      " 0   年份      float64\n",
      " 1   日期      object \n",
      " 2   报纸版次    object \n",
      " 3   标题      object \n",
      " 4   文本内容    object \n",
      " 5   year    object \n",
      "dtypes: float64(1), object(5)\n",
      "memory usage: 93.0+ MB\n",
      "None\n"
     ]
    }
   ],
   "source": [
    "print(data.head())\n",
    "print(data.info())\n"
   ]
  },
  {
   "cell_type": "markdown",
   "id": "77b4e838",
   "metadata": {},
   "source": [
    "1. 删除【】及其内文本\n",
    "2. 专栏： 删除到2002年\n",
    "3.   数据由“马 克 团 队”整理,来源：百度搜索“马克数据网”,  （更多数据，详见马克数据网）,详见官网,来自马克数据网,该数据由【马克数据网】整理,关注公众号“马克数据网”,更多数据：搜索“马克数据网”, （来自 马克数据网）\n",
    "4. 标题包含 天气预报\n",
    "5. 仅保留汉字\n"
   ]
  },
  {
   "cell_type": "code",
   "execution_count": 2,
   "id": "7c60f88e",
   "metadata": {},
   "outputs": [
    {
     "name": "stdout",
     "output_type": "stream",
     "text": [
      "✅ 完成清理，共 2022695 行\n",
      "- CSV: exports/all_years_clean.csv\n",
      "- Parquet: data_clean/all_years_clean.parquet\n"
     ]
    }
   ],
   "source": [
    "SRC_GLOB = \"datasets/*.xlsx\"\n",
    "CSV_OUT  = \"exports/all_years_clean.csv\"\n",
    "PAR_OUT  = \"data_clean/all_years_clean.parquet\"\n",
    "\n",
    "COL_YEAR  = \"年份\"\n",
    "COL_TITLE = \"标题\"\n",
    "COL_TEXT  = \"文本内容\"\n",
    "\n",
    "os.makedirs(os.path.dirname(CSV_OUT), exist_ok=True)\n",
    "os.makedirs(os.path.dirname(PAR_OUT), exist_ok=True)\n",
    "\n",
    "# —— 需要删除的“马克数据网”相关字段\n",
    "MARK_PATTERNS = [\n",
    "    r\"数据由“马 克 团 队”整理\",\n",
    "    r\"来源：百度搜索“马克数据网”\",\n",
    "    r\"（更多数据，详见马克数据网）\",\n",
    "    r\"详见官网\",\n",
    "    r\"来自马克数据网\",\n",
    "    r\"该数据由【马克数据网】整理\",\n",
    "    r\"关注公众号“马克数据网”\",\n",
    "    r\"更多数据：搜索“马克数据网”\",\n",
    "    r\"（来自 马克数据网）\",\n",
    "]\n",
    "\n",
    "def clean_text_rules(text: str, year_val) -> str:\n",
    "    if not isinstance(text, str):\n",
    "        text = \"\" if pd.isna(text) else str(text)\n",
    "\n",
    "    # 1) 删除【】及其内文本\n",
    "    text = re.sub(r\"【[^】]*】\", \"\", text)\n",
    "\n",
    "    # 2) 年份 ≤ 2002，删除专栏:及之前的所有内容\n",
    "    try:\n",
    "        y = int(year_val)\n",
    "    except Exception:\n",
    "        y = None\n",
    "    if y is not None and y <= 2002:\n",
    "        text = re.sub(r\"^.*?专栏[:：]\", \"\", text)\n",
    "\n",
    "    # 3) 删除“马克数据网”相关字段\n",
    "    for pat in MARK_PATTERNS:\n",
    "        text = re.sub(pat, \"\", text)\n",
    "\n",
    "    # 5) 仅保留汉字（最后一步）\n",
    "    text = re.sub(r\"[^\\p{Han}]+\", \"\", text)\n",
    "\n",
    "    return text\n",
    "\n",
    "\n",
    "# —— 批量处理所有文件\n",
    "parts = []\n",
    "for f in sorted(glob.glob(SRC_GLOB)):\n",
    "    df = pd.read_excel(f)\n",
    "\n",
    "    # 行级删除：标题含“天气预报”\n",
    "    df = df[~df[COL_TITLE].astype(str).str.contains(\"天气预报\", na=False)]\n",
    "\n",
    "    # 文本清理\n",
    "    df[COL_TEXT] = df.apply(lambda r: clean_text_rules(r[COL_TEXT], r[COL_YEAR]), axis=1)\n",
    "\n",
    "    # 删除空文本\n",
    "    df = df[df[COL_TEXT].str.len() > 0].copy()\n",
    "\n",
    "    # 保留必要字段\n",
    "    df = df[[COL_YEAR, COL_TITLE, COL_TEXT]].rename(\n",
    "        columns={COL_YEAR: \"year\", COL_TITLE: \"title\", COL_TEXT: \"text\"}\n",
    "    )\n",
    "    df[\"year\"] = pd.to_numeric(df[\"year\"], errors=\"coerce\").astype(\"Int64\")\n",
    "\n",
    "    parts.append(df)\n",
    "\n",
    "# 合并所有年份\n",
    "data = pd.concat(parts, ignore_index=True) if parts else pd.DataFrame(columns=[\"year\",\"title\",\"text\"])\n",
    "\n",
    "# 导出\n",
    "data.to_csv(CSV_OUT, index=False, encoding=\"utf-8-sig\")\n",
    "data.to_parquet(PAR_OUT, index=False)\n",
    "\n",
    "print(f\"✅ 完成清理，共 {len(data)} 行\")\n",
    "print(f\"- CSV: {CSV_OUT}\")\n",
    "print(f\"- Parquet: {PAR_OUT}\")\n"
   ]
  },
  {
   "cell_type": "code",
   "execution_count": 3,
   "id": "f5bc8915",
   "metadata": {},
   "outputs": [
    {
     "name": "stdout",
     "output_type": "stream",
     "text": [
      "共载入停用词 1395 个\n"
     ]
    }
   ],
   "source": [
    "def load_stopwords(path=\"baidu_stopwords.txt\"):\n",
    "    with open(path, encoding=\"utf-8\") as f:\n",
    "        stopwords = set([w.strip() for w in f if w.strip()])\n",
    "    return stopwords\n",
    "\n",
    "stopwords = load_stopwords(\"baidu_stopwords.txt\")\n",
    "print(f\"共载入停用词 {len(stopwords)} 个\")\n"
   ]
  },
  {
   "cell_type": "code",
   "execution_count": 2,
   "id": "f860da2a",
   "metadata": {},
   "outputs": [
    {
     "name": "stdout",
     "output_type": "stream",
     "text": [
      "(2022695, 3)\n",
      "   year             title                                               text\n",
      "0  1946         苏评论家马西努著论  苏评论家马西努著论痛斥阎锡山勾结日寇美军帮助日阎进攻解放区不符莫斯科二国决议莫斯科广播马西努...\n",
      "1  1946              瑞华银行  瑞华银行今日召开股东大会民营瑞华银行定今日在邯郸举行股东大会该行因得晋冀鲁豫边区各界人士赞助...\n",
      "2  1946          煤矿工潮绵延四旬  煤矿工潮绵延四旬美工业陷停顿状态芝加哥华盛顿等城已黑暗无光为要求改善生活条件而坚持四旬的煤矿...\n",
      "3  1946             军区文工团  军区文工团演出两种作风生动真实深受欢迎军区文艺工作团集体创作之两种作风在各部队演出深受干部战...\n",
      "4  1946  联总救济物资一部先后运到我区发放  联总救济物资一部先后运到我区发放群众认为物资微少不足弥补八年创伤联合国救济总署行总河南分署之...\n"
     ]
    }
   ],
   "source": [
    "data = pd.read_parquet(\"data_clean/all_years_clean.parquet\")\n",
    "\n",
    "print(data.shape)\n",
    "print(data.head())\n"
   ]
  },
  {
   "cell_type": "code",
   "execution_count": 3,
   "id": "516fc13e",
   "metadata": {},
   "outputs": [
    {
     "name": "stderr",
     "output_type": "stream",
     "text": [
      "Building prefix dict from the default dictionary ...\n",
      "Loading model from cache C:\\Users\\jjjia\\AppData\\Local\\Temp\\jieba.cache\n",
      "Loading model cost 0.592 seconds.\n",
      "Prefix dict has been built successfully.\n"
     ]
    },
    {
     "name": "stdout",
     "output_type": "stream",
     "text": [
      "✅ Done. Rows: 208498\n"
     ]
    }
   ],
   "source": [
    "# 1. 读取清理后的总数据（建议用 parquet，速度快）\n",
    "data = pd.read_parquet(\"data_clean/all_years_clean.parquet\")\n",
    "\n",
    "# 2. 筛选 1949–1959 年\n",
    "sub = data[(data[\"year\"] >= 1949) & (data[\"year\"] <= 1959)].copy()\n",
    "\n",
    "# 3. 加载停用词表\n",
    "def load_stopwords(path=\"baidu_stopwords.txt\"):\n",
    "    with open(path, encoding=\"utf-8\") as f:\n",
    "        return set([w.strip() for w in f if w.strip()])\n",
    "\n",
    "stopwords = load_stopwords(\"baidu_stopwords.txt\")\n",
    "\n",
    "# 4. 定义分词+停用词清理函数\n",
    "def tokenize(text):\n",
    "    if not isinstance(text, str):\n",
    "        return \"\"\n",
    "    tokens = jieba.lcut(text)\n",
    "    tokens = [t for t in tokens if t not in stopwords and t.strip()]\n",
    "    return \" \".join(tokens)   # 用空格拼接成字符串，方便存储\n",
    "\n",
    "# 5. 应用到子集\n",
    "sub[\"tokens\"] = sub[\"text\"].apply(tokenize)\n",
    "\n",
    "# 6. 保存结果\n",
    "sub.to_csv(\"exports/people_daily_1949_1959_tokens.csv\", index=False, encoding=\"utf-8-sig\")\n",
    "sub.to_parquet(\"data_clean/people_daily_1949_1959_tokens.parquet\", index=False)\n",
    "\n",
    "print(\"✅ Done. Rows:\", len(sub))\n"
   ]
  },
  {
   "cell_type": "code",
   "execution_count": 3,
   "id": "399d5903",
   "metadata": {},
   "outputs": [],
   "source": [
    "import matplotlib.pyplot as plt\n",
    "plt.rcParams['font.family'] = 'Microsoft YaHei'  \n",
    "\n",
    "import pandas as pd\n",
    "from gensim.models import Word2Vec"
   ]
  },
  {
   "cell_type": "code",
   "execution_count": 4,
   "id": "7b46fb72",
   "metadata": {},
   "outputs": [],
   "source": [
    "# 读取数据\n",
    "df = pd.read_csv(\"exports/people_daily_1949_1959_tokens.csv\")\n",
    "\n",
    "# 按年份分组\n",
    "grouped = df.groupby(\"year\")[\"tokens\"].apply(list)\n"
   ]
  },
  {
   "cell_type": "code",
   "execution_count": 5,
   "id": "870056f8",
   "metadata": {},
   "outputs": [
    {
     "name": "stdout",
     "output_type": "stream",
     "text": [
      "✅ 每年模型完成: [1949, 1950, 1951, 1952, 1953, 1954, 1955, 1956, 1957, 1958, 1959]\n"
     ]
    }
   ],
   "source": [
    "models = {}\n",
    "for year, docs in grouped.items():\n",
    "    sentences = [doc.split() for doc in docs]  # 每篇文章按空格切分成词列表\n",
    "    model = Word2Vec(sentences, vector_size=100, window=10, min_count=5, sg=1, workers=4)\n",
    "    models[year] = model\n",
    "\n",
    "print(\"✅ 每年模型完成:\", list(models.keys()))\n"
   ]
  },
  {
   "cell_type": "code",
   "execution_count": 6,
   "id": "749fcd72",
   "metadata": {},
   "outputs": [
    {
     "name": "stdout",
     "output_type": "stream",
     "text": [
      "\n",
      "=== 人民 ===\n",
      "1949-1950: 0.7940\n",
      "1950-1951: 0.7618\n",
      "1951-1952: 0.8400\n",
      "1952-1953: 0.8366\n",
      "1953-1954: 0.8360\n",
      "1954-1955: 0.8561\n",
      "1955-1956: 0.8346\n",
      "1956-1957: 0.8506\n",
      "1957-1958: 0.8827\n",
      "1958-1959: 0.8452\n",
      "\n",
      "=== 民主 ===\n",
      "1949-1950: 0.7912\n",
      "1950-1951: 0.8459\n",
      "1951-1952: 0.8023\n",
      "1952-1953: 0.8565\n",
      "1953-1954: 0.8175\n",
      "1954-1955: 0.8142\n",
      "1955-1956: 0.7084\n",
      "1956-1957: 0.7586\n",
      "1957-1958: 0.7565\n",
      "1958-1959: 0.8782\n",
      "\n",
      "=== 法治 ===\n",
      "1949-1950: 0.7812\n",
      "1950-1951: 0.7480\n",
      "1951-1952: 0.7155\n",
      "1952-1953: 0.5833\n",
      "1953-1954: 0.5826\n",
      "1956-1957: 0.5560\n",
      "1957-1958: 0.4615\n",
      "1958-1959: 0.4640\n",
      "\n",
      "=== 发展 ===\n",
      "1949-1950: 0.8467\n",
      "1950-1951: 0.9014\n",
      "1951-1952: 0.8791\n",
      "1952-1953: 0.8796\n",
      "1953-1954: 0.8172\n",
      "1954-1955: 0.8996\n",
      "1955-1956: 0.8478\n",
      "1956-1957: 0.8562\n",
      "1957-1958: 0.8542\n",
      "1958-1959: 0.8376\n",
      "\n",
      "=== 复兴 ===\n",
      "1949-1950: 0.7768\n",
      "1950-1951: 0.6499\n",
      "1951-1952: 0.5877\n",
      "1952-1953: 0.6177\n",
      "1953-1954: 0.5625\n",
      "1954-1955: 0.7018\n",
      "1955-1956: 0.6190\n",
      "1956-1957: 0.5921\n",
      "1957-1958: 0.6906\n",
      "1958-1959: 0.6087\n"
     ]
    },
    {
     "data": {
      "image/png": "[encoded data removed]",
      "text/plain": [
       "<Figure size 640x480 with 1 Axes>"
      ]
     },
     "metadata": {},
     "output_type": "display_data"
    }
   ],
   "source": [
    "import numpy as np\n",
    "from scipy.linalg import orthogonal_procrustes\n",
    "import matplotlib.pyplot as plt\n",
    "\n",
    "# 对齐函数\n",
    "def align(base_model, other_model):\n",
    "    base_words = set(base_model.wv.key_to_index.keys())\n",
    "    other_words = set(other_model.wv.key_to_index.keys())\n",
    "    common = list(base_words & other_words)\n",
    "    base_vecs = np.array([base_model.wv[w] for w in common])\n",
    "    other_vecs = np.array([other_model.wv[w] for w in common])\n",
    "    \n",
    "    R, _ = orthogonal_procrustes(other_vecs, base_vecs)\n",
    "    aligned = {w: other_model.wv[w] @ R for w in common}\n",
    "    return aligned, common\n",
    "\n",
    "# 计算漂移\n",
    "target_words = [\"人民\", \"民主\", \"法治\", \"发展\", \"复兴\"]\n",
    "drift_scores = {w: [] for w in target_words}\n",
    "years = sorted(models.keys())\n",
    "\n",
    "for i in range(len(years) - 1):\n",
    "    y1, y2 = years[i], years[i+1]\n",
    "    aligned, common = align(models[y1], models[y2])\n",
    "    \n",
    "    for word in target_words:\n",
    "        if word in models[y1].wv and word in aligned:\n",
    "            v1 = models[y1].wv[word]\n",
    "            v2 = aligned[word]\n",
    "            sim = np.dot(v1, v2) / (np.linalg.norm(v1) * np.linalg.norm(v2))\n",
    "            drift_scores[word].append((f\"{y1}-{y2}\", sim))\n",
    "\n",
    "# 打印结果\n",
    "for word, sims in drift_scores.items():\n",
    "    print(f\"\\n=== {word} ===\")\n",
    "    for period, sim in sims:\n",
    "        print(f\"{period}: {sim:.4f}\")\n",
    "\n",
    "# 可视化\n",
    "for word, sims in drift_scores.items():\n",
    "    periods = [p for p, _ in sims]\n",
    "    values = [s for _, s in sims]\n",
    "    plt.plot(periods, values, marker=\"o\", label=word)\n",
    "\n",
    "plt.xticks(rotation=45)\n",
    "plt.ylabel(\"Cosine Similarity\")\n",
    "plt.title(\"Semantic Drift 1949–1959\")\n",
    "plt.legend()\n",
    "plt.show()\n"
   ]
  },
  {
   "cell_type": "code",
   "execution_count": 7,
   "id": "59659f83",
   "metadata": {},
   "outputs": [
    {
     "name": "stdout",
     "output_type": "stream",
     "text": [
      "1949 民主: [('积极合作', 0.7548902630805969), ('数以亿计', 0.7531542181968689), ('休戚相关', 0.7437750101089478), ('一阵线', 0.7329322099685669), ('扬古', 0.7293097376823425), ('世界舞台', 0.7268490195274353), ('贡献一切', 0.718146800994873), ('铭记', 0.7124801874160767), ('精诚团结', 0.7099564075469971), ('久里', 0.7084879279136658)]\n",
      "1959 民主: [('民主制', 0.7976446151733398), ('进步力量', 0.7564928531646729), ('争取和平', 0.7416589260101318), ('民族民主', 0.7370982766151428), ('保障人权', 0.7366818189620972), ('维护和平', 0.7361526489257812), ('野坂', 0.7334285378456116), ('安沙尔', 0.7325239181518555), ('自由民主', 0.7304145097732544), ('激进党', 0.7287042140960693)]\n"
     ]
    }
   ],
   "source": [
    "# 看民主在1949和1959的邻居\n",
    "print(\"1949 民主:\", models[1949].wv.most_similar(\"民主\", topn=10))\n",
    "print(\"1959 民主:\", models[1959].wv.most_similar(\"民主\", topn=10))\n"
   ]
  }
 ],
 "metadata": {
  "kernelspec": {
   "display_name": "thesis3.1",
   "language": "python",
   "name": "python3"
  },
  "language_info": {
   "codemirror_mode": {
    "name": "ipython",
    "version": 3
   },
   "file_extension": ".py",
   "mimetype": "text/x-python",
   "name": "python",
   "nbconvert_exporter": "python",
   "pygments_lexer": "ipython3",
   "version": "3.10.11"
  }
 },
 "nbformat": 4,
 "nbformat_minor": 5
}
